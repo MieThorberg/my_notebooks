{
 "cells": [
  {
   "cell_type": "markdown",
   "source": [
    "## Exercise\n",
    "\n",
    "1. Write a function that iterates through a list and prints each value **without using a loop**.\n",
    "That is, write a recursive function to print the values of a list.\n",
    "2. Write a function that can take any number of arguments and return all arguments concatenated or summed depending on the data type"
   ],
   "metadata": {
    "collapsed": false,
    "pycharm": {
     "name": "#%% md\n"
    }
   }
  },
  {
   "cell_type": "code",
   "execution_count": 6,
   "outputs": [
    {
     "name": "stdout",
     "output_type": "stream",
     "text": [
      "a\n",
      "b\n",
      "c\n",
      "d\n"
     ]
    }
   ],
   "source": [
    "# 1 - A function that iterates through a list and prints each value without using a loop\n",
    "a = ['a', 'b', 'c', 'd']\n",
    "def my_function(list, index):\n",
    "    if index < len(list):\n",
    "        print(list[index])\n",
    "        my_function(list,index+1)\n",
    "    else:\n",
    "        return\n",
    "my_function(a, 0)"
   ],
   "metadata": {
    "collapsed": false,
    "pycharm": {
     "name": "#%%\n"
    }
   }
  },
  {
   "cell_type": "code",
   "execution_count": 13,
   "outputs": [
    {
     "name": "stdout",
     "output_type": "stream",
     "text": [
      "hello, world, \n",
      "11\n"
     ]
    }
   ],
   "source": [
    "# 2 - A function that can take any number of arguments and return all arguments concatenated or summed depending on the data type\n",
    "\n",
    "def my_function1(*arg):\n",
    "    string = \"\" # string\n",
    "    input = 0 # input\n",
    "    for i in arg:\n",
    "        if isinstance(i, str):\n",
    "            string += i + \", \"\n",
    "        else:\n",
    "            input = input + i\n",
    "\n",
    "    print(string)\n",
    "    print(input)\n",
    "\n",
    "my_function1(1, \"hello\", 10, \"world\")"
   ],
   "metadata": {
    "collapsed": false,
    "pycharm": {
     "name": "#%%\n"
    }
   }
  }
 ],
 "metadata": {
  "kernelspec": {
   "display_name": "Python 3",
   "language": "python",
   "name": "python3"
  },
  "language_info": {
   "codemirror_mode": {
    "name": "ipython",
    "version": 2
   },
   "file_extension": ".py",
   "mimetype": "text/x-python",
   "name": "python",
   "nbconvert_exporter": "python",
   "pygments_lexer": "ipython2",
   "version": "2.7.6"
  }
 },
 "nbformat": 4,
 "nbformat_minor": 0
}