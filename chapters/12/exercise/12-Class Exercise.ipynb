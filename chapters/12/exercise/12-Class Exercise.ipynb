{
 "cells": [
  {
   "cell_type": "markdown",
   "id": "49b52eee",
   "metadata": {
    "pycharm": {
     "name": "#%% md\n"
    }
   },
   "source": [
    "# steps\n",
    "\n",
    "### Part 1\n",
    "1. Get data from: \"https://en.wikisource.org/wiki/Portal:State_of_the_Union_Speeches_by_United_States_Presidents\"\n",
    "2. Using BeatifullSoup get all the speeches from 1900-2022\n",
    "3. Load all speech urls into a dictionary with year as key. Hint (get year with regex: `r\"\\b(19|20)\\d{2}\\b\"`)\n",
    "4. Loop through dictionary and save content of each speech in [year].txt files\n",
    "\n",
    "### Part 2\n",
    "1. Install nltk: `pip install nltk`\n",
    "2. From the data/gdp.csv file create a dataframe with year and GDP\n",
    "3. From the data/US presidents.csv file create a dataframe with year, president and party\n",
    "4. From the developed text files in part 1, create a dictionary with year:speech\n",
    "5. Clean text by change all to lowercase and remove '\\n'\n",
    "6. Get words from texts (from nltk.tokenize import word_tokenize). Clean text by removing stop words (from nltk.corpus import stopwords) and all non-alphabetic characters (including , and .)\n",
    "7. Use from nltk.stem import WordNetLemmatizer to lemmatize all texts\n",
    "\n",
    "### Part 3\n",
    "**[TextBlob](https://textblob.readthedocs.io/en/dev/quickstart.html)** returns polarity and subjectivity of a sentence. Polarity lies between [-1,1], -1 defines a negative sentiment and 1 defines a positive sentiment. Subjectivity quantifies the amount of personal opinion and factual information contained in the text. The higher subjectivity means that the text contains personal opinion rather than factual information\n",
    "1. Install both textblob for sentiment analysis and wordclouds (pip install textblob wordclouds) and download the vader lexicon (nltk.download('vader_lexicon'))\n",
    "2. Find the polarity and subjectivity of each text (Hint: `TextBlob(text).sentiment`)\n",
    "3. Is there a correlation between negativity and recession years?\n",
    "4. Create a word cloud for the cleaned up speeches of both Trump and Obama. What can be learned from the word clouds?"
   ]
  },
  {
   "cell_type": "code",
   "execution_count": 30,
   "id": "2cf7611c",
   "metadata": {
    "pycharm": {
     "name": "#%%\n"
    }
   },
   "outputs": [],
   "source": [
    "import pandas as pd\n",
    "import requests as rq\n",
    "import re\n",
    "import bs4\n",
    "\n",
    "# 1.1 - Get data from: \"https://en.wikisource.org/wiki/Portal:State_of_the_Union_Speeches_by_United_States_Presidents\"\n",
    "url = \"https://en.wikisource.org/wiki/Portal:State_of_the_Union_Speeches_by_United_States_Presidents\"\n",
    "data = rq.get(url).text\n",
    "\n",
    "# 1.2 - Using BeatifullSoup get all the speeches from 1900-2022\n",
    "soup = bs4.BeautifulSoup(data, 'html.parser')\n",
    "elem = soup.select('li')[144:269]\n",
    "\n",
    "# 1.3 - Load all speech urls into a dictionary with year as key. Hint (get year with regex: `r\"\\b(19|20)\\d{2}\\b\"`)\n",
    "speech_urls = {}\n",
    "for e in elem:\n",
    "    year_reg = re.compile(r\"\\b(19|20)\\d{2}\\b\")\n",
    "    year_match = year_reg.search(e.text)\n",
    "    year = year_match.group()\n",
    "    speech = e.a.get('href')\n",
    "    speech_urls[year] = speech\n",
    "\n",
    "speech_texts = {}\n",
    "for year in speech_urls:\n",
    "    wiki_url = \"https://en.wikisource.org\"+speech_urls[year]\n",
    "    speech_data = rq.get(wiki_url).text\n",
    "    soup = bs4.BeautifulSoup(speech_data, 'html.parser')\n",
    "    speech = soup.select('div>p')\n",
    "    speech_texts[year] = speech\n",
    "\n",
    "# print(speech_texts[\"2022\"]) #just to check data in list\n",
    "# 1.4 - Loop through dictionary and save content of each speech in [year].txt files\n",
    "for speech in speech_texts:\n",
    "    with open(speech + \".txt\", 'w', encoding=\"utf8\") as file_object:\n",
    "        file_object.write(str(speech_texts[speech]))\n",
    "        file_object.close()"
   ]
  }
 ],
 "metadata": {
  "kernelspec": {
   "display_name": "Python 3 (ipykernel)",
   "language": "python",
   "name": "python3"
  },
  "language_info": {
   "codemirror_mode": {
    "name": "ipython",
    "version": 3
   },
   "file_extension": ".py",
   "mimetype": "text/x-python",
   "name": "python",
   "nbconvert_exporter": "python",
   "pygments_lexer": "ipython3",
   "version": "3.10.6"
  }
 },
 "nbformat": 4,
 "nbformat_minor": 5
}