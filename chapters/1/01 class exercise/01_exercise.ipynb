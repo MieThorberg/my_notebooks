{
 "cells": [
  {
   "cell_type": "markdown",
   "source": [
    "# Class exercise\n",
    "\n",
    "1. Open a new Jupyter notebook and call it \"01 class exercise\"\n",
    "2. Create the first cell as a Markdown cell and give it a Headline (single #) called Class exercise 1:\n",
    "3. Add this image to the cell: https://miro.medium.com/max/1266/1*Pb8oEA1nGIONsSJk7QSVzg.png using this syntax `![](image url)`\n",
    "\n",
    "4. The next cell should be a code cell that can take 2 numbers from a user [input](https://www.w3schools.com/python/showpython.asp?filename=demo_user_input3) and multiply them printing out the result."
   ],
   "metadata": {
    "collapsed": false,
    "pycharm": {
     "name": "#%% md\n"
    }
   }
  }
 ],
 "metadata": {
  "kernelspec": {
   "display_name": "Python 3",
   "language": "python",
   "name": "python3"
  },
  "language_info": {
   "codemirror_mode": {
    "name": "ipython",
    "version": 2
   },
   "file_extension": ".py",
   "mimetype": "text/x-python",
   "name": "python",
   "nbconvert_exporter": "python",
   "pygments_lexer": "ipython2",
   "version": "2.7.6"
  }
 },
 "nbformat": 4,
 "nbformat_minor": 0
}