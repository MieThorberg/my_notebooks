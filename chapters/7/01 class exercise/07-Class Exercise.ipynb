{
 "cells": [
  {
   "cell_type": "markdown",
   "metadata": {
    "pycharm": {
     "name": "#%% md\n"
    }
   },
   "source": [
    "# Week 7: Web scraping, BS4, Selenium and Regexp\n",
    "### Part 1\n",
    "##### 30 min\n",
    "1. Make a request to: `https://en.wikipedia.org/wiki/Alan_Turing` and print out the responses .text property\n",
    "2. Find and print the title of the response page\n",
    "3. Find and print content of the first p tag that has content.\n",
    "4. Find and print all content from the TOC\n",
    "##### 20 min\n",
    "5. Create a dictionary from the TOC links like: {'first link':'#this_is_the_first_link}\n",
    "### Pause\n",
    "##### 40 min\n",
    "6. Create a function that can take a word and look for it in the dictionary keys and then return the content from the first link that matches. Return the next p elements until next headline (h3 element).\n",
    "7. Make it into a cli program.\n",
    "\n",
    "### Pause\n",
    "\n",
    "### Part 2\n",
    "##### 40 min\n",
    "1. Using regex find out how many times 'Turing' is used in the article\n",
    "9. Regex: Find all the sentences that has a year in them (sentense defined by: starting at \\n or dot or comma and ending at dot or comma.\n",
    "\n",
    "### Part 3\n",
    "##### 40 min\n",
    "1. Use selenium to go to amazon.com and search for `Pet Shower Cap - Waterproof Reusable Bath Ear Covers`\n",
    "2. Print how many products were found\n",
    "3. Find the cheapest and the most expensive product from the list\n"
   ]
  },
  {
   "cell_type": "code",
   "execution_count": 13,
   "outputs": [
    {
     "name": "stdout",
     "output_type": "stream",
     "text": [
      "[' In 1938,', ' In 1948,', ' Turing died on 7 June 1954,', 'Following a public campaign in 2009,', ' Queen Elizabeth II granted a posthumous pardon in 2013.', ' which was released on 23 June 2021,', ' where Alan Turing was born on 23 June 1912,', '[26] The plaque was unveiled on 23 June 2012,', '[28] His parents purchased a house in Guildford in 1927,', 'Between January 1922 and 1926,', '[31] In 1926,', ' In 1928,', ' in February 1930,', ' In 1935,', ' in 1922,', 'In 1936,', ' The Entscheidungsproblem (decision problem) was originally posed by German mathematician David Hilbert in 1928.', ' where Turing was an undergraduate in 1931 and became a Fellow in 1935.', 'From September 1936 to July 1938,', '[56] In June 1938,', 'From September 1938,', ' which they in fact did in May 1940.', ' Turing worked here in 1939 and 1940,', 'On 4 September 1939,', '[71] which were of such value to GC&CS and its successor GCHQ that they were not released to the UK National Archives until April 2012,', ' The first bombe was installed on 18 March 1940.', 'By late 1941,', '[98] In December 1939,', '[104] He returned to Bletchley Park in March 1943.', 'In July 1942,', 'Between 1945 and 1947,', ' He presented a paper on 19 February 1946,', ' It executed its first program on 10 May 1950,', '[122] It took place in Göttingen in 1947.', 'In 1948,', 'In 1948,', ' By 1950,', '[126] In 1952,', 'When Turing was 39 years old in 1951,', ' finally publishing his masterpiece \"The Chemical Basis of Morphogenesis\" in January 1952.', ' but these were not so freely available in 1951,', '\"[137] In 2012,', '\\xa0Turing was published in 1992.', 'In 1941,', 'In January 1952,', '[141] and both men were charged with \"gross indecency\" under Section 11 of the Criminal Law Amendment Act 1885.', ' was brought to trial on 31 March 1952.', ' the British signals intelligence agency that had evolved from GC&CS in 1946,', ' He was denied entry into the United States after his conviction in 1952,', '200\\xa0oz (90\\xa0kg) and worth £250 (in 2022,', 'On 8 June 1954,', \"[156] Turing's remains were cremated at Woking Crematorium on 12 June 1954,\", ' In mid-May 1954,', 'In August 2009,', 'In December 2011,', ' In 1952,', 'On 26 July 2012,', ' a bill was introduced in the House of Lords to grant a statutory pardon to Turing for offences under section 11 of the Criminal Law Amendment Act 1885,', ' of which he was convicted on 31 March 1952.', \"At the bill's second reading in the House of Commons on 29 November 2013,\", ' The bill was due to return to the House of Commons on 28 February 2014,', ' On 24 December 2013,', '[171][195] The Queen officially pronounced Turing pardoned in August 2014.', 'In September 2016,', ' contained in the Policing and Crime Act 2017,', ' The Alan Turing Building at the University of Manchester in 2008\\n', 'Turing was appointed an officer of the Order of the British Empire in 1946.', '[88] He was also elected a Fellow of the Royal Society (FRS) in 1951.', ' In 1994,', 'In 1999,', 'On 25 March 2021,', ' the Turing Centenary Advisory Committee (TCAC) co-ordinated the Alan Turing Year in 2012,', '16125.', '590164.', ' Archived from the original on 9 December 2017.', ' Retrieved 9 December 2017.', '\\xa011430.', ' S2CID\\xa0121295850.', ' Archived from the original on 23 July 2019.', ' Retrieved 29 July 2019.', '1955.', '0019.', ' JSTOR\\xa0769256.', ' S2CID\\xa0711366.', ' Archived from the original on 19 January 2011.', ' Retrieved 10 January 2011.', '^ Sipser 2006,', '^ Beavers 2013,', ' Archived from the original on 11 October 2014.', ' Retrieved 26 October 2014.', ' Archived from the original on 17 February 2015.', ' Retrieved 9 January 2015.', ' Archived from the original on 20 January 2015.', ' Retrieved 9 January 2015.', ' Archived from the original on 13 December 2017.', ' Retrieved 17 February 2015.', '^ Leavitt 2007,', ' 20 October 2016.', ' Archived from the original on 20 October 2016.', ' Retrieved 20 October 2016.', '^ a b Hodges 1983,', ' Archived from the original on 14 June 2012.', ' Retrieved 2 January 2012.', ' 23 June 2012.', ' Ireland / Group Registration ID 1990366,', ' Archived from the original on 3 September 2009.', ' Retrieved 10 February 2007.', ' Archived from the original on 20 July 2011.', ' Retrieved 26 September 2006.', '^ Hodges 1983,', ' 29 June 2012.', ' Archived from the original on 12 September 2017.', ' Retrieved 3 July 2017.', ' 25 June 2012.', ' Archived from the original on 3 December 2017.', ' Retrieved 3 July 2017.', ' Archived from the original on 3 August 2007.', ' Retrieved 27 July 2007.', ' 29 November 2012.', ' Archived from the original on 19 October 2013.', ' Retrieved 31 October 2013.', ' OCLC\\xa0890938716.', ' Archived (PDF) from the original on 26 December 2016.', ' Retrieved 5 February 2017.', ' 1 September 2016.', ' Retrieved 10 October 2020.', ' OCLC\\xa0230812136.', '^ Hodges 1983,', '^ Hodges 1983,', ' Archived from the original on 7 January 2015.', ' Retrieved 9 January 2015.', ' OCLC\\xa053434737.', '^ Hodges 1983,', '^ Hodges 1983,', ' 15 August 2020.', ' ISBN\\xa09781841656434.', '^ Hodges 1983,', '1080/00029890.', '1995.', '12004608.', '^ Turing 1937\\n', '^ Church 1936\\n', ' Archived from the original on 4 March 2016.', ' Retrieved 28 February 2016.', ' 1972,', '^ Hodges 1983,', ' ProQuest\\xa0301792588.', ' Archived from the original (PDF) on 23 October 2012.', ' Retrieved 4 February 2012.', ' 1999,', '^ Hodges 1983,', ' 1976\\n', '^ Hodges 1983,', ' Archived from the original on 2 November 2013.', ' Retrieved 31 October 2013.', ' Retrieved 24 August 2021.', ' Archived from the original on 7 April 2015.', ' Retrieved 25 March 2015.', ' Archived from the original on 8 April 2015.', ' Retrieved 25 March 2015.', ' Archived from the original on 4 October 2012.', ' Retrieved 20 April 2012.', '^ Hodges 1983,', \"' A copy of this handbook was at last released from secrecy by the American National Security Agency in April 1996,\", '^ Lewin 1978,', ' Archived (PDF) from the original on 29 August 2019.', ' Archived from the original on 29 August 2019.', ' Archived from the original on 1 December 2016.', ' Retrieved 10 December 2016.', ' Archived from the original on 18 August 2013.', ' Retrieved 23 June 2012.', ' Archived from the original on 14 September 2013.', ' Retrieved 12 June 2014.', ' Archived from the original on 8 November 2014.', ' Retrieved 12 June 2014.', ' Archived from the original on 13 November 2014.', ' Retrieved 12 June 2014.', ' 23 June 2012.', ' Archived from the original on 7 July 2018.', ' Retrieved 21 June 2018.', ' Archived from the original on 26 June 2019.', ' Retrieved 6 February 2019.', ' Retrieved 18 March 2021.', '^ Oakley 2006,', '^ a b Hodges 1983,', '^ a b Hodges 1983,', ' Archived from the original on 9 July 2007.', ' Retrieved 27 July 2007.', ' Archived from the original on 30 June 2007.', ' Retrieved 30 June 2007.', '^ a b c Mahon 1945,', '^ Leavitt 2007,', ' Archived (PDF) from the original on 26 June 2019.', ' archived from the original on 21 April 2019,', ' retrieved 13 April 2019\\n', '^ Hodges 1983,', '1080/0161-110191889734.', ' S2CID\\xa014207094.', '^ Hodges 1983,', ' Archived from the original on 7 April 2019.', ' Retrieved 7 April 2019.', '^ Alexander & circa 1945,', '^ Copeland 2006,', '^ Copeland 2006,', '^ Copeland 2006,', '^ Gannon 2007,', '^ Hilton 2006,', '^ Copeland 2006,', '^ Hodges 1983,', '^ Hodges 1983,', '^ Hodges 1983,', '^ Copeland 2006,', ' Archived (PDF) from the original on 27 January 2012.', ' Retrieved 27 January 2012.', ' Archived from the original on 5 July 2015.', ' Retrieved 3 July 2015.', ' Archived (PDF) from the original on 21 May 2013.', ' Retrieved 7 February 2013.', ' Archived from the original on 17 February 2019.', ' Retrieved 18 March 2019.', ' hdl:10338.', 'dmlcz/103139.', ' Archived from the original on 2 November 2013.', ' Retrieved 11 November 2013.', ' 15–16 April 2017,', ' Archived from the original on 19 October 2017.', ' Retrieved 22 May 2018.', '1023/A:1011288000451.', ' hdl:11693/24987.', ' S2CID\\xa0990084.', '1952.', '0012.', ' S2CID\\xa0120437796.', ' 2004\\n', ' Archived from the original on 23 August 2003.', ' Retrieved 28 November 2011.', ' March 1988\\n', ' 2007,', ' 2004\\n', ' 338 (6113): 1406.', '6113.', '1406.', ' PMID\\xa023239707.', ' 338 (6113): 1476–1480.', '1226804.', ' PMC\\xa04486416.', ' PMID\\xa023239739.', ' Archived from the original on 5 September 2015.', ' Retrieved 27 July 2015.', '^ Leavitt 2007,', '^ Hodges 1983,', '^ Leavitt 2007,', ' Archived from the original on 20 January 2013.', ' Retrieved 16 December 2012.', '^ Hodges 1983,', '^ Copeland 2006,', ' ISBN\\xa09789197942720.', ' ISBN\\xa09780691164724.', ' Archived from the original (PDF) on 3 July 2021.', ' Archived from the original on 11 October 2017.', ' Retrieved 11 October 2017.', '^ Hodges 1983,', '^ Leavitt 2007,', '\\xa0140 and Hodges 1983,', '^ Hodges 1983,', ' Archived from the original on 17 January 2019.', ' Retrieved 16 January 2019.', ' Archived from the original on 23 June 2012.', ' Retrieved 23 June 2012.', ' Ethel Sara (1881–1976,', ' Archived from the original on 7 February 2019.', ' Retrieved 6 February 2019.', '^ Hodges 1983,', ' Archived from the original on 17 January 2019.', ' Retrieved 16 January 2019.', ' 31 August 2009.', ' Archived from the original on 31 August 2009.', ' Retrieved 31 August 2009.', ' 1 September 2009.', ' Archived from the original on 5 October 2009.', ' Retrieved 1 September 2009.', ' Archived from the original on 4 February 2017.', ' Retrieved 10 December 2016.', ' 11 September 2009.', ' Archived from the original on 31 May 2012.', ' Retrieved 11 September 2009.', ' 6 December 2011.', ' Archived from the original on 10 January 2012.', ' 6 December 2011.', ' Archived from the original on 19 June 2018.', ' Retrieved 21 June 2018.', ' Archived from the original on 24 December 2013.', ' Retrieved 21 August 2017.', ' Archived from the original on 4 February 2017.', ' Retrieved 10 December 2016.', ' 2 February 2012.', ' Archived from the original on 6 July 2017.', ' Retrieved 29 August 2017.', ' Archived from the original on 16 August 2016.', ' Retrieved 25 September 2016.', ' Archived from the original on 25 September 2016.', ' Retrieved 25 September 2016.', ' Archived from the original on 24 June 2018.', ' Retrieved 24 June 2018.', ' 1 February 2012.', ' Archived from the original on 2 July 2016.', ' Retrieved 25 September 2016.', ' Archived from the original on 24 June 2018.', ' Retrieved 24 June 2018.', ' 15 July 2019.', ' Archived from the original on 19 July 2019.', ' Retrieved 19 July 2019.', ' 20 October 2016.', ' 31 January 2017.', ' 15 July 2019.', ' 26 July 2012.', ' Archived from the original on 2 November 2013.', ' Retrieved 31 October 2013.', ' 13 December 2012.', ' Retrieved 15 December 2012.', ' Archived from the original on 4 January 2017.', ' Retrieved 10 December 2016.', ' Archived from the original on 24 December 2013.', ' Retrieved 24 December 2013.', ' Archived from the original on 5 July 2013.', ' Retrieved 20 July 2013.', ' Archived from the original on 25 December 2013.', ' Retrieved 24 December 2013.', ' Archived from the original on 12 June 2018.', ' Retrieved 20 June 2018.', ' Archived from the original on 2 November 2013.', ' Retrieved 24 December 2013.', ' Archived from the original on 2 May 2018.', ' Retrieved 5 April 2018.', ' 24 December 2013.', ' Archived from the original on 24 December 2013.', ' Retrieved 24 December 2013.', ' 22 August 2014.', ' Archived from the original on 1 November 2014.', ' Retrieved 1 November 2014.', ' 13 January 2014,', ' Retrieved 6 January 2014.', ' 22 September 2016.', ' Archived from the original on 22 September 2016.', ' Retrieved 22 September 2016.', ' Archived from the original on 22 September 2016.', ' Retrieved 22 September 2016.', ' Archived from the original on 5 March 2019.', ' Retrieved 6 February 2019.', ' 17 February 2007.', ' Archived from the original on 4 November 2013.', ' Retrieved 7 December 2014.', ' Archived from the original on 7 December 2018.', ' Retrieved 8 December 2018.', ' Archived from the original on 9 December 2018.', ' Retrieved 8 December 2018.', ' Retrieved 8 May 2020.', ' Retrieved 25 March 2021.', ' OCLC\\xa061684223.', ' München 2012,', '2307/2371045.', ' ISSN\\xa00002-9327.', ' JSTOR\\xa02371045.', '2004.', ' S2CID\\xa020209254.', ' OCLC\\xa0156728127.', ' OCLC\\xa0224640979.', ' in Copeland 2006,', ' Retrieved 10 December 2009.', '1017/s0790966700007503.', ' ISSN\\xa00790-9667.', ' PMID\\xa030440230.', ' S2CID\\xa053563123.', ' It was published in 1959,', ' 1967,', ' It was re-published by Cambridge University Press in 2012,', \" Turing's Legacy: A history of computing at the National Physical Laboratory 1945–1995.\", ' OCLC\\xa0123794619.', ' Retrieved 10 January 2011.', '1093/ref:odnb/36578.', ' Archived from the original on 16 October 2007.', ' Archived from the original on 3 August 2007.', 'Before 1950\\n', '1950–1979\\n', ' This page was last edited on 25 September 2022,']\n"
     ]
    }
   ],
   "source": [
    "import bs4\n",
    "import requests\n",
    "import re\n",
    "\n",
    "\n",
    "# 1. Make a request to: `https://en.wikipedia.org/wiki/Alan_Turing` and print out the responses .text property\n",
    "url = 'https://en.wikipedia.org/wiki/Alan_Turing';\n",
    "r = requests.get(url)\n",
    "soup = bs4.BeautifulSoup(r.text, 'html.parser')\n",
    "# print(soup.prettify())\n",
    "\n",
    "# 2. Find and print the title of the response page\n",
    "title = soup.select('title')\n",
    "# print(title[0].get_text())\n",
    "\n",
    "# 3. Find and print content of the first p tag that has content.\n",
    "# for p in soup.select('p'):\n",
    "#     if len(p.get_text().strip()) > 0:\n",
    "#         print(p)\n",
    "#         break\n",
    "\n",
    "# 4. Find and print all content from the TOC\n",
    "events = soup.select('div[id=toc]')\n",
    "\n",
    "# for e in events:\n",
    "    # print(e.getText())\n",
    "\n",
    "# 5. Create a dictionary from the TOC links like: {'first link':'#this_is_the_first_link}\n",
    "events = soup.select('div[id=toc]>ul>li>ul>li>a')\n",
    "links = {}\n",
    "for e in events:\n",
    "    links[e.getText()] = e.get('href').split('#')[1]\n",
    "# links\n",
    "\n",
    "# 6. Create a function that can take a word and look for it in the dictionary keys and then return the content from the first link that matches. Return the next p elements until next headline (h3 element).\n",
    "def contentFromLink(key):\n",
    "    link = links[key]\n",
    "    text = \"\"\n",
    "    for element in soup.find(\"span\", {\"id\": link}).find_all_next():\n",
    "        if element.name == \"p\":\n",
    "            text += element.getText()\n",
    "        elif element.name == \"h3\":\n",
    "            break\n",
    "\n",
    "    print(text)\n",
    "\n",
    "# contentFromLink('1.1 Family')\n",
    "\n",
    "# 8. Using regex find out how many times 'Turing' is used in the article\n",
    "def find_Turing():\n",
    "    turing_reg = re.compile(r'(Turing)')\n",
    "    print(turing_reg.findall(soup.getText()))\n",
    "\n",
    "# find_Turing()\n",
    "# 9. Regex: Find all the sentences that has a year in them (sentense defined by: starting at \\n or dot or comma and ending at dot or comma.\n",
    "def find_years():\n",
    "    year_reg = re.compile(r'[^.,\\n]*\\d{4,4}[$.,\\n]')\n",
    "    print(year_reg.findall(soup.getText()))\n",
    "find_years()"
   ],
   "metadata": {
    "collapsed": false,
    "pycharm": {
     "name": "#%%\n"
    }
   }
  },
  {
   "cell_type": "code",
   "execution_count": 1,
   "outputs": [],
   "source": [
    "#testing seleniur\n"
   ],
   "metadata": {
    "collapsed": false,
    "pycharm": {
     "name": "#%%\n"
    }
   }
  }
 ],
 "metadata": {
  "kernelspec": {
   "display_name": "Python 3",
   "language": "python",
   "name": "python3"
  },
  "language_info": {
   "codemirror_mode": {
    "name": "ipython",
    "version": 3
   },
   "file_extension": ".py",
   "mimetype": "text/x-python",
   "name": "python",
   "nbconvert_exporter": "python",
   "pygments_lexer": "ipython3",
   "version": "3.7.6"
  }
 },
 "nbformat": 4,
 "nbformat_minor": 5
}