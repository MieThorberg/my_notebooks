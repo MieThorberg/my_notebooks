{
 "cells": [
  {
   "cell_type": "markdown",
   "source": [
    "## Exercise"
   ],
   "metadata": {
    "collapsed": false,
    "pycharm": {
     "name": "#%% md\n"
    }
   }
  },
  {
   "cell_type": "markdown",
   "source": [
    "1. Create 5 list comprehensions to solve the following 5 problems:\n",
    "  1.1 Iterate a list of names to return a list of the names starting with H\n",
    "  1.2 In one line create a list of the numbers 1-100 to the power of 3\n",
    "  1.3 Iterate a list of names to create a list of tuples where the tuples first value is the length of the name and the second is the name\n",
    "  1.4 Iterate over each character in a string and get only those that are nummeric\n",
    "  1.5 Using only a list comprehension wrapped in set() get all possible combinations from throwing 2 dice (hint use 2 for loops in a single list comprehension). Result should look like: [2,3,4,5,6,7,8,...] or a more complex/accurate solution: [(1,1),(1,2)...] in a way that (1,2) is equal to (2,1).\n",
    "\n",
    "2. Create 2 dictionary comprehensions to solve the following:\n",
    "  2.1 Iterate a list of names and create a dictionary where key is the name and value is the length of the name\n",
    "  2.2 Iterate a list of numbers and create a dictionary with {key:value} being {number:squareroot_of_number}\n",
    "\n",
    "3. Extra assignment (This one goes beyond what is covered in the course notebooks. So only do it if you want an extra challenge).\n",
    "  - Progammatically using loops create a small program to produce a dictionary with all the 2 dice throw combinations as keys (eg: 2,3,4...etc) and their likelyhood in percent as values"
   ],
   "metadata": {
    "collapsed": false,
    "pycharm": {
     "name": "#%% md\n"
    }
   }
  },
  {
   "cell_type": "code",
   "execution_count": 4,
   "outputs": [
    {
     "data": {
      "text/plain": "['Hans', 'Hanna']"
     },
     "execution_count": 4,
     "metadata": {},
     "output_type": "execute_result"
    }
   ],
   "source": [
    "# 1.1 - iterate to return names starting with H\n",
    "names = ['Alice', \"Hans\", \"Bob\", \"Hanna\"]\n",
    "a = [name for name in names if name.startswith(\"H\")]\n",
    "a"
   ],
   "metadata": {
    "collapsed": false,
    "pycharm": {
     "name": "#%%\n"
    }
   }
  },
  {
   "cell_type": "code",
   "execution_count": 6,
   "outputs": [
    {
     "data": {
      "text/plain": "[1,\n 8,\n 27,\n 64,\n 125,\n 216,\n 343,\n 512,\n 729,\n 1000,\n 1331,\n 1728,\n 2197,\n 2744,\n 3375,\n 4096,\n 4913,\n 5832,\n 6859,\n 8000,\n 9261,\n 10648,\n 12167,\n 13824,\n 15625,\n 17576,\n 19683,\n 21952,\n 24389,\n 27000,\n 29791,\n 32768,\n 35937,\n 39304,\n 42875,\n 46656,\n 50653,\n 54872,\n 59319,\n 64000,\n 68921,\n 74088,\n 79507,\n 85184,\n 91125,\n 97336,\n 103823,\n 110592,\n 117649,\n 125000,\n 132651,\n 140608,\n 148877,\n 157464,\n 166375,\n 175616,\n 185193,\n 195112,\n 205379,\n 216000,\n 226981,\n 238328,\n 250047,\n 262144,\n 274625,\n 287496,\n 300763,\n 314432,\n 328509,\n 343000,\n 357911,\n 373248,\n 389017,\n 405224,\n 421875,\n 438976,\n 456533,\n 474552,\n 493039,\n 512000,\n 531441,\n 551368,\n 571787,\n 592704,\n 614125,\n 636056,\n 658503,\n 681472,\n 704969,\n 729000,\n 753571,\n 778688,\n 804357,\n 830584,\n 857375,\n 884736,\n 912673,\n 941192,\n 970299,\n 1000000]"
     },
     "execution_count": 6,
     "metadata": {},
     "output_type": "execute_result"
    }
   ],
   "source": [
    "# 1.2 - creating a list of numbers 1 to 100 to the power of 3\n",
    "b = [i**3 for i in range(1, 101)]\n",
    "b"
   ],
   "metadata": {
    "collapsed": false,
    "pycharm": {
     "name": "#%%\n"
    }
   }
  },
  {
   "cell_type": "code",
   "execution_count": 12,
   "outputs": [
    {
     "data": {
      "text/plain": "[('Alice', 5), ('Hans', 4), ('Bob', 3), ('Hanna', 5)]"
     },
     "execution_count": 12,
     "metadata": {},
     "output_type": "execute_result"
    }
   ],
   "source": [
    "# 1.3 - Iterate a list of names to create a list of tuples where the tuples first value is the length of the name and the second is the name\n",
    "\n",
    "c = [(name,len(name)) for name in names]\n",
    "c"
   ],
   "metadata": {
    "collapsed": false,
    "pycharm": {
     "name": "#%%\n"
    }
   }
  },
  {
   "cell_type": "code",
   "execution_count": 13,
   "outputs": [
    {
     "data": {
      "text/plain": "['8', '7']"
     },
     "execution_count": 13,
     "metadata": {},
     "output_type": "execute_result"
    }
   ],
   "source": [
    "# 1.4 - Iterate over each character in a string and get only those that are nummeric\n",
    "s = \"hsdf87dfd\"\n",
    "d = [character for character in s if character.isnumeric()]\n",
    "d"
   ],
   "metadata": {
    "collapsed": false,
    "pycharm": {
     "name": "#%%\n"
    }
   }
  },
  {
   "cell_type": "code",
   "execution_count": 20,
   "outputs": [
    {
     "data": {
      "text/plain": "[(0, 0),\n (0, 1),\n (0, 2),\n (0, 3),\n (0, 4),\n (0, 5),\n (0, 6),\n (1, 0),\n (1, 1),\n (1, 2),\n (1, 3),\n (1, 4),\n (1, 5),\n (1, 6),\n (2, 0),\n (2, 1),\n (2, 2),\n (2, 3),\n (2, 4),\n (2, 5),\n (2, 6),\n (3, 0),\n (3, 1),\n (3, 2),\n (3, 3),\n (3, 4),\n (3, 5),\n (3, 6),\n (4, 0),\n (4, 1),\n (4, 2),\n (4, 3),\n (4, 4),\n (4, 5),\n (4, 6),\n (5, 0),\n (5, 1),\n (5, 2),\n (5, 3),\n (5, 4),\n (5, 5),\n (5, 6),\n (6, 0),\n (6, 1),\n (6, 2),\n (6, 3),\n (6, 4),\n (6, 5),\n (6, 6)]"
     },
     "execution_count": 20,
     "metadata": {},
     "output_type": "execute_result"
    }
   ],
   "source": [
    "# 1.5 - Creating a list listing all possible combinations from throwing 2 dice\n",
    "e = [(i, j) for i in range(7) for j in range(7)]\n",
    "e"
   ],
   "metadata": {
    "collapsed": false,
    "pycharm": {
     "name": "#%%\n"
    }
   }
  },
  {
   "cell_type": "code",
   "execution_count": 25,
   "outputs": [
    {
     "data": {
      "text/plain": "{'Alice': 5, 'Hans': 4, 'Bob': 3, 'Hanna': 5}"
     },
     "execution_count": 25,
     "metadata": {},
     "output_type": "execute_result"
    }
   ],
   "source": [
    "# 2.1 - Iterate a list of names and create a dictionary where key is the name and value is the length of the name\n",
    "dict_names = {name: len(name) for name in names}\n",
    "dict_names"
   ],
   "metadata": {
    "collapsed": false,
    "pycharm": {
     "name": "#%%\n"
    }
   }
  },
  {
   "cell_type": "code",
   "execution_count": 27,
   "outputs": [
    {
     "data": {
      "text/plain": "{0: 0, 1: 1, 2: 4, 3: 9, 4: 16, 5: 25, 6: 36, 7: 49, 8: 64, 9: 81, 10: 100}"
     },
     "execution_count": 27,
     "metadata": {},
     "output_type": "execute_result"
    }
   ],
   "source": [
    "# 2.2 - Iterate a list of numbers and create a dictionary with {key:value} being {number:squareroot_of_number}\n",
    "numbers = [i for i in range(11)]\n",
    "dict_numbers = {number: number**2 for number in numbers}\n",
    "dict_numbers"
   ],
   "metadata": {
    "collapsed": false,
    "pycharm": {
     "name": "#%%\n"
    }
   }
  }
 ],
 "metadata": {
  "kernelspec": {
   "display_name": "Python 3",
   "language": "python",
   "name": "python3"
  },
  "language_info": {
   "codemirror_mode": {
    "name": "ipython",
    "version": 2
   },
   "file_extension": ".py",
   "mimetype": "text/x-python",
   "name": "python",
   "nbconvert_exporter": "python",
   "pygments_lexer": "ipython2",
   "version": "2.7.6"
  }
 },
 "nbformat": 4,
 "nbformat_minor": 0
}