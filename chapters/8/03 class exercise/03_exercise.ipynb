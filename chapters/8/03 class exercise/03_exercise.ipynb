{
 "cells": [
  {
   "cell_type": "markdown",
   "source": [
    "## 01 Exercise\n",
    "\n",
    "* Use the `CountVectorizer` from `sklearn.feature_extraction` to read the book `data/moby_dick.txt`\n",
    "  * How many times does the word 'wood' appear?"
   ],
   "metadata": {
    "collapsed": false,
    "pycharm": {
     "name": "#%% md\n"
    }
   }
  },
  {
   "cell_type": "code",
   "execution_count": 15,
   "outputs": [
    {
     "name": "stdout",
     "output_type": "stream",
     "text": [
      "<class 'scipy.sparse._csr.csr_matrix'>\n"
     ]
    },
    {
     "ename": "MemoryError",
     "evalue": "Unable to allocate 27.6 GiB for an array with shape (212793, 17409) and data type int64",
     "output_type": "error",
     "traceback": [
      "\u001B[1;31m---------------------------------------------------------------------------\u001B[0m",
      "\u001B[1;31mMemoryError\u001B[0m                               Traceback (most recent call last)",
      "Cell \u001B[1;32mIn [15], line 13\u001B[0m\n\u001B[0;32m     11\u001B[0m fit \u001B[38;5;241m=\u001B[39m vectorizer\u001B[38;5;241m.\u001B[39mfit_transform(data)\n\u001B[0;32m     12\u001B[0m \u001B[38;5;28mprint\u001B[39m(\u001B[38;5;28mtype\u001B[39m(fit))\n\u001B[1;32m---> 13\u001B[0m res \u001B[38;5;241m=\u001B[39m \u001B[43mfit\u001B[49m\u001B[38;5;241;43m.\u001B[39;49m\u001B[43mtodense\u001B[49m\u001B[43m(\u001B[49m\u001B[43m)\u001B[49m \u001B[38;5;66;03m# returns a numpy array of same shape\u001B[39;00m\n\u001B[0;32m     14\u001B[0m document_idx \u001B[38;5;241m=\u001B[39m vectorizer\u001B[38;5;241m.\u001B[39mvocabulary_[\u001B[38;5;124m'\u001B[39m\u001B[38;5;124mdocument\u001B[39m\u001B[38;5;124m'\u001B[39m]\n\u001B[0;32m     15\u001B[0m \u001B[38;5;28mprint\u001B[39m(document_idx)\n",
      "File \u001B[1;32m~\\Desktop\\python\\venv\\lib\\site-packages\\scipy\\sparse\\_base.py:946\u001B[0m, in \u001B[0;36mspmatrix.todense\u001B[1;34m(self, order, out)\u001B[0m\n\u001B[0;32m    916\u001B[0m \u001B[38;5;28;01mdef\u001B[39;00m \u001B[38;5;21mtodense\u001B[39m(\u001B[38;5;28mself\u001B[39m, order\u001B[38;5;241m=\u001B[39m\u001B[38;5;28;01mNone\u001B[39;00m, out\u001B[38;5;241m=\u001B[39m\u001B[38;5;28;01mNone\u001B[39;00m):\n\u001B[0;32m    917\u001B[0m     \u001B[38;5;124;03m\"\"\"\u001B[39;00m\n\u001B[0;32m    918\u001B[0m \u001B[38;5;124;03m    Return a dense matrix representation of this matrix.\u001B[39;00m\n\u001B[0;32m    919\u001B[0m \n\u001B[1;32m   (...)\u001B[0m\n\u001B[0;32m    944\u001B[0m \u001B[38;5;124;03m        `numpy.matrix` object that shares the same memory.\u001B[39;00m\n\u001B[0;32m    945\u001B[0m \u001B[38;5;124;03m    \"\"\"\u001B[39;00m\n\u001B[1;32m--> 946\u001B[0m     \u001B[38;5;28;01mreturn\u001B[39;00m \u001B[38;5;28mself\u001B[39m\u001B[38;5;241m.\u001B[39m_ascontainer(\u001B[38;5;28;43mself\u001B[39;49m\u001B[38;5;241;43m.\u001B[39;49m\u001B[43mtoarray\u001B[49m\u001B[43m(\u001B[49m\u001B[43morder\u001B[49m\u001B[38;5;241;43m=\u001B[39;49m\u001B[43morder\u001B[49m\u001B[43m,\u001B[49m\u001B[43m \u001B[49m\u001B[43mout\u001B[49m\u001B[38;5;241;43m=\u001B[39;49m\u001B[43mout\u001B[49m\u001B[43m)\u001B[49m)\n",
      "File \u001B[1;32m~\\Desktop\\python\\venv\\lib\\site-packages\\scipy\\sparse\\_compressed.py:1051\u001B[0m, in \u001B[0;36m_cs_matrix.toarray\u001B[1;34m(self, order, out)\u001B[0m\n\u001B[0;32m   1049\u001B[0m \u001B[38;5;28;01mif\u001B[39;00m out \u001B[38;5;129;01mis\u001B[39;00m \u001B[38;5;28;01mNone\u001B[39;00m \u001B[38;5;129;01mand\u001B[39;00m order \u001B[38;5;129;01mis\u001B[39;00m \u001B[38;5;28;01mNone\u001B[39;00m:\n\u001B[0;32m   1050\u001B[0m     order \u001B[38;5;241m=\u001B[39m \u001B[38;5;28mself\u001B[39m\u001B[38;5;241m.\u001B[39m_swap(\u001B[38;5;124m'\u001B[39m\u001B[38;5;124mcf\u001B[39m\u001B[38;5;124m'\u001B[39m)[\u001B[38;5;241m0\u001B[39m]\n\u001B[1;32m-> 1051\u001B[0m out \u001B[38;5;241m=\u001B[39m \u001B[38;5;28;43mself\u001B[39;49m\u001B[38;5;241;43m.\u001B[39;49m\u001B[43m_process_toarray_args\u001B[49m\u001B[43m(\u001B[49m\u001B[43morder\u001B[49m\u001B[43m,\u001B[49m\u001B[43m \u001B[49m\u001B[43mout\u001B[49m\u001B[43m)\u001B[49m\n\u001B[0;32m   1052\u001B[0m \u001B[38;5;28;01mif\u001B[39;00m \u001B[38;5;129;01mnot\u001B[39;00m (out\u001B[38;5;241m.\u001B[39mflags\u001B[38;5;241m.\u001B[39mc_contiguous \u001B[38;5;129;01mor\u001B[39;00m out\u001B[38;5;241m.\u001B[39mflags\u001B[38;5;241m.\u001B[39mf_contiguous):\n\u001B[0;32m   1053\u001B[0m     \u001B[38;5;28;01mraise\u001B[39;00m \u001B[38;5;167;01mValueError\u001B[39;00m(\u001B[38;5;124m'\u001B[39m\u001B[38;5;124mOutput array must be C or F contiguous\u001B[39m\u001B[38;5;124m'\u001B[39m)\n",
      "File \u001B[1;32m~\\Desktop\\python\\venv\\lib\\site-packages\\scipy\\sparse\\_base.py:1298\u001B[0m, in \u001B[0;36mspmatrix._process_toarray_args\u001B[1;34m(self, order, out)\u001B[0m\n\u001B[0;32m   1296\u001B[0m     \u001B[38;5;28;01mreturn\u001B[39;00m out\n\u001B[0;32m   1297\u001B[0m \u001B[38;5;28;01melse\u001B[39;00m:\n\u001B[1;32m-> 1298\u001B[0m     \u001B[38;5;28;01mreturn\u001B[39;00m \u001B[43mnp\u001B[49m\u001B[38;5;241;43m.\u001B[39;49m\u001B[43mzeros\u001B[49m\u001B[43m(\u001B[49m\u001B[38;5;28;43mself\u001B[39;49m\u001B[38;5;241;43m.\u001B[39;49m\u001B[43mshape\u001B[49m\u001B[43m,\u001B[49m\u001B[43m \u001B[49m\u001B[43mdtype\u001B[49m\u001B[38;5;241;43m=\u001B[39;49m\u001B[38;5;28;43mself\u001B[39;49m\u001B[38;5;241;43m.\u001B[39;49m\u001B[43mdtype\u001B[49m\u001B[43m,\u001B[49m\u001B[43m \u001B[49m\u001B[43morder\u001B[49m\u001B[38;5;241;43m=\u001B[39;49m\u001B[43morder\u001B[49m\u001B[43m)\u001B[49m\n",
      "\u001B[1;31mMemoryError\u001B[0m: Unable to allocate 27.6 GiB for an array with shape (212793, 17409) and data type int64"
     ]
    }
   ],
   "source": [
    "import pandas as pd\n",
    "from sklearn.feature_extraction.text import CountVectorizer\n",
    "data = []\n",
    "with open('moby_dick.txt', encoding=\"utf8\") as file:\n",
    "    for line in file:\n",
    "        for word in line.split():\n",
    "            data.append(word)\n",
    "\n",
    "\n",
    "vectorizer = CountVectorizer()\n",
    "fit = vectorizer.fit_transform(data)\n",
    "print(type(fit))\n",
    "res = fit.todense() # returns a numpy array of same shape\n",
    "document_idx = vectorizer.vocabulary_['document']\n",
    "print(document_idx)\n",
    "document_count = sum(res[:,document_idx]) # sum all row cells where column == index\n",
    "print('document occurs {} times in the text'.format(document_count))\n",
    "print('{} is the index for document'.format(document_idx))\n",
    "mat = fit.toarray()\n",
    "print('There are 9 different words in the 4 sentences\\n',vectorizer.get_feature_names())\n",
    "print('In second sentence document occurs twice, which tells us that \"document\" is in second collumn')\n",
    "print(res)\n",
    "print('------------------------')\n",
    "print(mat)\n",
    "print('------------------------')"
   ],
   "metadata": {
    "collapsed": false,
    "pycharm": {
     "name": "#%%\n"
    }
   }
  }
 ],
 "metadata": {
  "kernelspec": {
   "display_name": "Python 3",
   "language": "python",
   "name": "python3"
  },
  "language_info": {
   "codemirror_mode": {
    "name": "ipython",
    "version": 2
   },
   "file_extension": ".py",
   "mimetype": "text/x-python",
   "name": "python",
   "nbconvert_exporter": "python",
   "pygments_lexer": "ipython2",
   "version": "2.7.6"
  }
 },
 "nbformat": 4,
 "nbformat_minor": 0
}