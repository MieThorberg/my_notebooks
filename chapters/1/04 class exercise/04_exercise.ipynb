{
 "cells": [
  {
   "cell_type": "markdown",
   "source": [
    "# Exercises!!!\n",
    "\n",
    "  1. Write a program that creates gramatically valid English sentences.\n",
    "    * Here, we consider a sentence to be gramatically correct when it follows the simple English grammar of the form: `Article Adjective Noun Verb.` That is, even the sentence `A insect fly.` is, for the moment, considered correct. Use the files inside the data folder: nouns, verbs and adjectives. HINT: read them at put content into 3 lists.\n",
    "  2. Extend the above program to generate all possible sentences with the given words."
   ],
   "metadata": {
    "collapsed": false,
    "pycharm": {
     "name": "#%% md\n"
    }
   }
  },
  {
   "cell_type": "code",
   "execution_count": 26,
   "outputs": [
    {
     "name": "stdout",
     "output_type": "stream",
     "text": [
      "other time be\n",
      "other time be\n",
      "other time have\n",
      "other time do\n",
      "other time say\n",
      "other time go\n",
      "other time can\n",
      "other time get\n",
      "other time would\n",
      "other time make\n",
      "other time know\n",
      "other time will\n",
      "other time think\n",
      "other time take\n",
      "other time see\n",
      "other time come\n",
      "other time could\n",
      "other time want\n",
      "other time look\n",
      "other time use\n",
      "other time find\n",
      "other time give\n",
      "other time tell\n",
      "other time work\n",
      "other time may\n",
      "other time should\n",
      "other time call\n",
      "other time try\n",
      "other time ask\n",
      "other time need\n",
      "other time feel\n",
      "other time become\n",
      "other time leave\n",
      "other time put\n",
      "other time mean\n",
      "other time keep\n",
      "other time let\n",
      "other time begin\n",
      "other time seem\n",
      "other time help\n",
      "other time talk\n",
      "other time turn\n",
      "other time start\n",
      "other time might\n",
      "other time show\n",
      "other time hear\n",
      "other time play\n",
      "other time run\n",
      "other time move\n",
      "other time like\n",
      "other time live\n"
     ]
    }
   ],
   "source": [
    "# 1 - create grammatically valid English sentences\n",
    "# read from the 3 files and splits by every new line to get a list of all words from the files\n",
    "with open('adjectives') as adjectives_file:\n",
    "    adjectives = adjectives_file.read().split('\\n')\n",
    "with open('nouns') as nouns_file:\n",
    "    nouns = nouns_file.read().split('\\n')\n",
    "with open('verbs') as verbs_file:\n",
    "    verbs = verbs_file.read().split('\\n')\n",
    "# print a sentence from the first word in every list\n",
    "print(\"{} {} {}\".format(adjectives[0], nouns[0], verbs[0]))\n",
    "\n",
    "# 2 - generate all possible sentences with the given words\n",
    "sentences = []\n",
    "for i in adjectives:\n",
    "    for j in nouns:\n",
    "        for k in verbs:\n",
    "            sentences.append(\"{} {} {}\".format(i,j,k))\n",
    "\n",
    "# prints the first 50 sentences\n",
    "for sentence in range(50):\n",
    "    print(sentences[sentence])"
   ],
   "metadata": {
    "collapsed": false,
    "pycharm": {
     "name": "#%%\n"
    }
   }
  }
 ],
 "metadata": {
  "kernelspec": {
   "display_name": "Python 3",
   "language": "python",
   "name": "python3"
  },
  "language_info": {
   "codemirror_mode": {
    "name": "ipython",
    "version": 2
   },
   "file_extension": ".py",
   "mimetype": "text/x-python",
   "name": "python",
   "nbconvert_exporter": "python",
   "pygments_lexer": "ipython2",
   "version": "2.7.6"
  }
 },
 "nbformat": 4,
 "nbformat_minor": 0
}