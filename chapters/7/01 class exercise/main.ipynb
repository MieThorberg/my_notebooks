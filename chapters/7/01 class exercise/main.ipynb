{
 "cells": [
  {
   "cell_type": "code",
   "execution_count": 1,
   "metadata": {
    "collapsed": false,
    "jupyter": {
     "outputs_hidden": false
    },
    "pycharm": {
     "name": "#%%\n"
    }
   },
   "outputs": [],
   "source": [
    "# Example: goto www.cphbusiness.dk and find all the \"Erhvervsakademiuddannelser\" that are available.\n",
    "\n",
    "from selenium import webdriver\n",
    "from selenium.webdriver.common.keys import Keys\n",
    "from selenium.webdriver.firefox.options import Options\n",
    "from selenium.webdriver.firefox.service import Service\n",
    "from webdriver_manager.firefox import GeckoDriverManager\n",
    "from selenium.webdriver.common.by import By\n",
    "\n",
    "\n",
    "import bs4\n",
    "import json\n",
    "\n",
    "url = 'https://www.cphbusiness.dk'\n",
    "def cphbusiness_interaction():\n",
    "    #profile = webdriver.FirefoxProfile()\n",
    "    #profile.set_preference(\"general.useragent.override\", \"Mozilla/5.0 (X11; Ubuntu; Linux x86_64; rv:81.0) Gecko/20100101 Firefox/81.0\")\n",
    "\n",
    "    # headless is needed here because we do not have a GUI version of firefox\n",
    "    options = Options()\n",
    "    options.headless = True\n",
    "    browser = webdriver.Firefox(service=Service(GeckoDriverManager().install()), options=options)\n",
    "\n",
    "    browser.get(url)\n",
    "    browser.implicitly_wait(2)\n",
    "    button = browser.find_element(By.ID,'declineButton')\n",
    "    button.click()\n",
    "\n",
    "    button = browser.find_element(By.XPATH,'/html/body/header/div[3]/div[4]/div/nav/ul/li[1]/a')\n",
    "    button.click()\n",
    "\n",
    "    button = browser.find_element('xpath','/html/body/main/div[1]/div/div[1]/div/a') # using xpath string\n",
    "    button.click()\n",
    "\n",
    "    edu_buttons = browser.find_elements('css selector','div.tile.tile--small.small-12.medium-12.large-6.columns')\n",
    "    edu_buttons = browser.find_elements('css selector','p.tile__link.tile__link--small a.icon-arrow-after')\n",
    "    educations = [b.text for b in edu_buttons]\n",
    "    return educations, browser.page_source\n",
    "\n",
    "def find_elements(page, selector):\n",
    "    soup = bs4.BeautifulSoup(page, 'html.parser')\n",
    "    event_cells = soup.select(selector)\n",
    "    return event_cells\n",
    "\n",
    "def print_page(page,file):\n",
    "    with open(file,'w') as file:\n",
    "        print(file)\n",
    "        # file.write(json.dumps(page))"
   ]
  },
  {
   "cell_type": "code",
   "execution_count": 3,
   "metadata": {
    "collapsed": false,
    "jupyter": {
     "outputs_hidden": false
    },
    "pycharm": {
     "name": "#%%\n"
    }
   },
   "outputs": [
    {
     "name": "stderr",
     "output_type": "stream",
     "text": [
      "[WDM] - Downloading: 16.2kB [00:00, 5.52MB/s]                   \n"
     ]
    },
    {
     "name": "stdout",
     "output_type": "stream",
     "text": [
      "['Datamatiker', 'Financial controller', 'Finansøkonom', 'Handelsøkonom', 'Laborant', 'Logistikøkonom', 'Markedsføringsøkonom', 'Miljøteknolog', 'Multimediedesigner', 'Serviceøkonom']\n"
     ]
    }
   ],
   "source": [
    "educations,source = cphbusiness_interaction()\n",
    "print(educations)"
   ]
  },
  {
   "cell_type": "code",
   "execution_count": null,
   "metadata": {
    "pycharm": {
     "name": "#%%\n"
    }
   },
   "outputs": [],
   "source": []
  }
 ],
 "metadata": {
  "kernelspec": {
   "display_name": "Python 3 (ipykernel)",
   "language": "python",
   "name": "python3"
  },
  "language_info": {
   "codemirror_mode": {
    "name": "ipython",
    "version": 3
   },
   "file_extension": ".py",
   "mimetype": "text/x-python",
   "name": "python",
   "nbconvert_exporter": "python",
   "pygments_lexer": "ipython3",
   "version": "3.10.6"
  }
 },
 "nbformat": 4,
 "nbformat_minor": 4
}